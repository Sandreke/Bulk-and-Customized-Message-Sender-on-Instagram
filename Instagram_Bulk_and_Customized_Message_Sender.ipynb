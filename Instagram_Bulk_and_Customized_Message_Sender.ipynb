{
 "cells": [
  {
   "cell_type": "code",
   "execution_count": null,
   "metadata": {},
   "outputs": [],
   "source": [
    "# Instalar selenium\n",
    "# !pip install selenium"
   ]
  },
  {
   "cell_type": "markdown",
   "metadata": {},
   "source": [
    "### Paso 0: Importar librerías"
   ]
  },
  {
   "cell_type": "code",
   "execution_count": 2,
   "metadata": {},
   "outputs": [],
   "source": [
    "from selenium import webdriver\n",
    "from selenium.webdriver.common.by import By\n",
    "from selenium.webdriver.common.keys import Keys\n",
    "from selenium.webdriver.chrome.options import Options\n",
    "from selenium.webdriver.support.wait import WebDriverWait\n",
    "from selenium.webdriver.support import expected_conditions as EC\n",
    "import selenium.common.exceptions\n",
    "import time\n",
    "import random\n",
    "\n",
    "import pandas as pd"
   ]
  },
  {
   "cell_type": "markdown",
   "metadata": {},
   "source": [
    "### Paso 1: Descargar ChromeDriver\n",
    "Se necesita descargar la última versión estable de ChromeDriver:\n",
    "<br>\n",
    "https://chromedriver.chromium.org/downloads\n",
    "<br>"
   ]
  },
  {
   "cell_type": "markdown",
   "metadata": {},
   "source": [
    "### Paso 2: Acceder a Instagram e iniciar sesión en tu cuenta"
   ]
  },
  {
   "cell_type": "code",
   "execution_count": 3,
   "metadata": {},
   "outputs": [],
   "source": [
    "# Entrar a la página de WhatsApp Web\n",
    "options = Options()\n",
    "options.add_argument(\"--disable-extensions\")\n",
    "driver = webdriver.Chrome(\"chromedriver.exe\", options=options) # Especificar la ruta del Chrome Driver (en este caso está ubicado en la misma ruta del código)\n",
    "driver.get(\"https://instagram.com\") \n",
    "\n",
    "# Añadir credenciales de la cuenta\n",
    "username_ = 'sandreke99' # tu username o correo\n",
    "password_ = '@Sandro.Agama99' # tu password\n",
    "\n",
    "# Ubicar campos username y password en la página web de Instagram\n",
    "username = WebDriverWait(driver, 10).until(EC.element_to_be_clickable((By.CSS_SELECTOR, \"input[name='username']\")))\n",
    "password = WebDriverWait(driver, 10).until(EC.element_to_be_clickable((By.CSS_SELECTOR, \"input[name='password']\")))\n",
    "\n",
    "# Ingresar username y password\n",
    "username.clear()\n",
    "username.send_keys(username_)\n",
    "password.clear()\n",
    "password.send_keys(password_)\n",
    "\n",
    "# Ubicar al botón de 'iniciar sesión' y hacer clic en él\n",
    "button = WebDriverWait(driver, 2).until(EC.element_to_be_clickable((By.CSS_SELECTOR, \"button[type='submit']\"))).click()"
   ]
  },
  {
   "cell_type": "markdown",
   "metadata": {},
   "source": [
    "### Paso 3: Ingresar el código de seguridad"
   ]
  },
  {
   "cell_type": "code",
   "execution_count": 4,
   "metadata": {},
   "outputs": [],
   "source": [
    "# Aparecerá \"Ingresa el código que enviamos al número que termina en ****.\"\n",
    "# Ingresar el código de seguridad enviado al número de teléfono"
   ]
  },
  {
   "cell_type": "markdown",
   "metadata": {},
   "source": [
    "<img src=\"codigo_seguridad.png\">"
   ]
  },
  {
   "cell_type": "markdown",
   "metadata": {},
   "source": [
    "### Paso 4: Omitir alertas"
   ]
  },
  {
   "cell_type": "code",
   "execution_count": 5,
   "metadata": {},
   "outputs": [],
   "source": [
    "# Evitar alerta(s)\n",
    "alert = WebDriverWait(driver, 15).until(EC.element_to_be_clickable((By.XPATH, '//button[contains(text(), \"Ahora no\")]'))).click() # Guardar información de sesión - No ahora\n",
    "alert2 = WebDriverWait(driver, 15).until(EC.element_to_be_clickable((By.XPATH, '//button[contains(text(), \"Ahora no\")]'))).click() # Aparece un pop up de \"Activar notificaciones\"\n",
    "# alert = WebDriverWait(driver, 15).until(EC.element_to_be_clickable((By.XPATH, '//button[contains(text(), \"Not Now\")]'))).click() # Si es en inglés\n",
    "# alert2 = WebDriverWait(driver, 15).until(EC.element_to_be_clickable((By.XPATH, '//button[contains(text(), \"Not Now\")]'))).click() # Si es en inglés"
   ]
  },
  {
   "attachments": {},
   "cell_type": "markdown",
   "metadata": {},
   "source": [
    "<img src=\"alertas.png\">"
   ]
  },
  {
   "cell_type": "markdown",
   "metadata": {},
   "source": [
    "### Paso 5: Leer el archivo que contiene los datos de los clientes"
   ]
  },
  {
   "cell_type": "code",
   "execution_count": 8,
   "metadata": {},
   "outputs": [
    {
     "data": {
      "text/html": [
       "<div>\n",
       "<style scoped>\n",
       "    .dataframe tbody tr th:only-of-type {\n",
       "        vertical-align: middle;\n",
       "    }\n",
       "\n",
       "    .dataframe tbody tr th {\n",
       "        vertical-align: top;\n",
       "    }\n",
       "\n",
       "    .dataframe thead th {\n",
       "        text-align: right;\n",
       "    }\n",
       "</style>\n",
       "<table border=\"1\" class=\"dataframe\">\n",
       "  <thead>\n",
       "    <tr style=\"text-align: right;\">\n",
       "      <th></th>\n",
       "      <th>Cliente</th>\n",
       "      <th>Cuenta de Instagram</th>\n",
       "      <th>Lugar de entrega</th>\n",
       "      <th>Marca</th>\n",
       "      <th>Modelo</th>\n",
       "      <th>Fecha</th>\n",
       "    </tr>\n",
       "  </thead>\n",
       "  <tbody>\n",
       "    <tr>\n",
       "      <td>0</td>\n",
       "      <td>Isabel</td>\n",
       "      <td>isabella_g.m</td>\n",
       "      <td>San Miguel</td>\n",
       "      <td>iPhone</td>\n",
       "      <td>12 Pro Max</td>\n",
       "      <td>2021-09-21</td>\n",
       "    </tr>\n",
       "    <tr>\n",
       "      <td>1</td>\n",
       "      <td>Hiarley</td>\n",
       "      <td>hiarleyblacido_10</td>\n",
       "      <td>Jesús María</td>\n",
       "      <td>Xiaomi</td>\n",
       "      <td>Mi 11</td>\n",
       "      <td>2021-09-02</td>\n",
       "    </tr>\n",
       "    <tr>\n",
       "      <td>2</td>\n",
       "      <td>Daniel</td>\n",
       "      <td>amdaniel.08</td>\n",
       "      <td>Barranco</td>\n",
       "      <td>Samsung</td>\n",
       "      <td>Galaxy Note 20</td>\n",
       "      <td>2021-09-14</td>\n",
       "    </tr>\n",
       "    <tr>\n",
       "      <td>3</td>\n",
       "      <td>Germán</td>\n",
       "      <td>germanposadas1712</td>\n",
       "      <td>La Molina</td>\n",
       "      <td>Huawei</td>\n",
       "      <td>40 Pro</td>\n",
       "      <td>2021-09-24</td>\n",
       "    </tr>\n",
       "    <tr>\n",
       "      <td>4</td>\n",
       "      <td>Bresia</td>\n",
       "      <td>bresia1701</td>\n",
       "      <td>Magdalena</td>\n",
       "      <td>LG</td>\n",
       "      <td>K61</td>\n",
       "      <td>2021-09-06</td>\n",
       "    </tr>\n",
       "    <tr>\n",
       "      <td>5</td>\n",
       "      <td>Esmeralda</td>\n",
       "      <td>esmeraldamejiarojas</td>\n",
       "      <td>Surco</td>\n",
       "      <td>Motorola</td>\n",
       "      <td>Moto Z3</td>\n",
       "      <td>2021-09-16</td>\n",
       "    </tr>\n",
       "    <tr>\n",
       "      <td>6</td>\n",
       "      <td>Alessandra</td>\n",
       "      <td>alessa1012</td>\n",
       "      <td>San Borja</td>\n",
       "      <td>Honor</td>\n",
       "      <td>60</td>\n",
       "      <td>2021-09-09</td>\n",
       "    </tr>\n",
       "    <tr>\n",
       "      <td>7</td>\n",
       "      <td>Gino</td>\n",
       "      <td>ginoponceh</td>\n",
       "      <td>Miraflores</td>\n",
       "      <td>Sony</td>\n",
       "      <td>Xperia Pro-I</td>\n",
       "      <td>2021-09-28</td>\n",
       "    </tr>\n",
       "    <tr>\n",
       "      <td>8</td>\n",
       "      <td>Lucía</td>\n",
       "      <td>lucia_dcm26</td>\n",
       "      <td>Lince</td>\n",
       "      <td>Alcatel</td>\n",
       "      <td>3L</td>\n",
       "      <td>2021-09-11</td>\n",
       "    </tr>\n",
       "    <tr>\n",
       "      <td>9</td>\n",
       "      <td>Andrea</td>\n",
       "      <td>andrea.ua</td>\n",
       "      <td>San Isidro</td>\n",
       "      <td>Lenovo</td>\n",
       "      <td>K13</td>\n",
       "      <td>2021-09-10</td>\n",
       "    </tr>\n",
       "  </tbody>\n",
       "</table>\n",
       "</div>"
      ],
      "text/plain": [
       "      Cliente  Cuenta de Instagram Lugar de entrega     Marca          Modelo  \\\n",
       "0      Isabel         isabella_g.m       San Miguel    iPhone      12 Pro Max   \n",
       "1     Hiarley    hiarleyblacido_10      Jesús María    Xiaomi           Mi 11   \n",
       "2      Daniel          amdaniel.08         Barranco   Samsung  Galaxy Note 20   \n",
       "3      Germán    germanposadas1712        La Molina    Huawei          40 Pro   \n",
       "4      Bresia           bresia1701        Magdalena        LG             K61   \n",
       "5   Esmeralda  esmeraldamejiarojas            Surco  Motorola         Moto Z3   \n",
       "6  Alessandra           alessa1012        San Borja     Honor              60   \n",
       "7        Gino           ginoponceh       Miraflores      Sony    Xperia Pro-I   \n",
       "8       Lucía          lucia_dcm26            Lince   Alcatel              3L   \n",
       "9      Andrea            andrea.ua       San Isidro    Lenovo             K13   \n",
       "\n",
       "       Fecha  \n",
       "0 2021-09-21  \n",
       "1 2021-09-02  \n",
       "2 2021-09-14  \n",
       "3 2021-09-24  \n",
       "4 2021-09-06  \n",
       "5 2021-09-16  \n",
       "6 2021-09-09  \n",
       "7 2021-09-28  \n",
       "8 2021-09-11  \n",
       "9 2021-09-10  "
      ]
     },
     "execution_count": 8,
     "metadata": {},
     "output_type": "execute_result"
    }
   ],
   "source": [
    "# Se simula las ventas de hace 6 meses de una tienda virtual que vende celulares por Instagram\n",
    "# El archivo debe contener las cuentas de Instagram y variables que se consideren pertinentes en el mensaje\n",
    "ventas = pd.read_excel('Ultimas_Ventas.xlsx', sheet_name='Ventas')\n",
    "ventas"
   ]
  },
  {
   "cell_type": "markdown",
   "metadata": {},
   "source": [
    "### Paso 6, 7, 8 y 9: Enviar mensajes masivos y personalizados"
   ]
  },
  {
   "cell_type": "code",
   "execution_count": 9,
   "metadata": {},
   "outputs": [],
   "source": [
    "for i in range(len(ventas)):\n",
    "    \n",
    "    # Paso 6: Ingresar a Instagram direct (logo de Messenger y luego en \"Enviar mensaje\" que permitirá elegir la cuenta y enviar el mensaje)\n",
    "    instagram_direct = driver.find_element_by_xpath(\"//a[@class='xWeGp']\").click()\n",
    "    time.sleep(1) # Esperar 1 segundo a que cargue\n",
    "    enviar_mensaje = driver.find_element_by_xpath(\"//button[@class='sqdOP  L3NKy   y3zKF     ']\").click()\n",
    "    \n",
    "    # Paso 7: Buscar y seleccionar cuenta a la que se enviará el mensaje\n",
    "    ## Paso 7.1: Buscar cuenta a la que se enviará el mensaje\n",
    "    cuenta = ventas.loc[i, 'Cuenta de Instagram']\n",
    "    pop_up_window = WebDriverWait(driver, 2).until(EC.element_to_be_clickable((By.XPATH, \"//div[@class='pbNvD  fPMEg       BHb1X ']\")))\n",
    "    search = driver.find_element_by_xpath(\"//input[@placeholder='Buscar...']\")\n",
    "    search.send_keys(cuenta)\n",
    "    time.sleep(2) # Esperar 2 segundos a que cargue\n",
    "    \n",
    "    ## Paso 7.2: Seleccionar cuenta a la que se enviará el mensaje\n",
    "    persona = driver.find_element_by_xpath(\"//div//div//div//div//button[@class='wpO6b  ']\").click()\n",
    "    siguiente = driver.find_element_by_xpath(\"//button[@class='sqdOP yWX7d    y3zKF   cB_4K  ']\").click()\n",
    "    time.sleep(2)\n",
    "    \n",
    "    # Paso 8: Formar el mensaje personalizado\n",
    "    persona = ventas.loc[i,'Persona']\n",
    "    marca = ventas.loc[i,'Marca']\n",
    "    lugar = ventas.loc[i,'Lugar de entrega']\n",
    "                \n",
    "    mensaje = (persona + \"!, esperamos que te esté yendo genial :D\" + \" \\n \" +\n",
    "               \"Felicidades! Por tu última compra, te ganaste 20% de dscto. en todos los nuevos modelos de \" + marca + \" \" + u'\\u263A' + \". \\n \" +\n",
    "               \"Y para ti la entrega a \" +  lugar + \" es totalmente gratis! \" + u'\\u2764') # Si quieres usar emojis, ten cuenta que Chrome Driver solo utiliza caracteres BMP\n",
    "                                                                                           # Por ejemplo: u'\\u263A' es ☺, u'\\u2764' es ❤, etc. \n",
    "                                                                                           # Encuentra más en https://codepoints.net/basic_multilingual_plane\n",
    "\n",
    "    # Paso 9: Enviar el mensaje\n",
    "    enviar = driver.find_element_by_xpath(\"//textarea[@placeholder='Enviar mensaje...']\")\n",
    "    time.sleep(1)\n",
    "    enviar.send_keys(mensaje + Keys.ENTER)\n",
    "    time.sleep(1)"
   ]
  }
 ],
 "metadata": {
  "kernelspec": {
   "display_name": "Python 3",
   "language": "python",
   "name": "python3"
  },
  "language_info": {
   "codemirror_mode": {
    "name": "ipython",
    "version": 3
   },
   "file_extension": ".py",
   "mimetype": "text/x-python",
   "name": "python",
   "nbconvert_exporter": "python",
   "pygments_lexer": "ipython3",
   "version": "3.7.4"
  }
 },
 "nbformat": 4,
 "nbformat_minor": 2
}
